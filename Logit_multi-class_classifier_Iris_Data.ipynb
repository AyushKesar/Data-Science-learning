{
 "cells": [
  {
   "cell_type": "markdown",
   "metadata": {},
   "source": [
    "### Import Modules"
   ]
  },
  {
   "cell_type": "code",
   "execution_count": 1,
   "metadata": {
    "collapsed": true
   },
   "outputs": [],
   "source": [
    "import pandas as pd\n",
    "import numpy as np\n",
    "from sklearn.datasets import load_iris\n",
    "from sklearn import linear_model, metrics\n",
    "from sklearn.cross_validation import train_test_split, cross_val_score\n",
    "from patsy import dmatrices\n",
    "import matplotlib.pyplot as plt\n",
    "%matplotlib inline"
   ]
  },
  {
   "cell_type": "markdown",
   "metadata": {},
   "source": [
    "### Data pre processing"
   ]
  },
  {
   "cell_type": "code",
   "execution_count": 2,
   "metadata": {
    "collapsed": false
   },
   "outputs": [
    {
     "data": {
      "text/html": [
       "<div style=\"max-height:1000px;max-width:1500px;overflow:auto;\">\n",
       "<table border=\"1\" class=\"dataframe\">\n",
       "  <thead>\n",
       "    <tr style=\"text-align: right;\">\n",
       "      <th></th>\n",
       "      <th>sepal_length</th>\n",
       "      <th>sepal_width</th>\n",
       "      <th>petal_length</th>\n",
       "      <th>petal_width</th>\n",
       "      <th>target</th>\n",
       "      <th>target_name</th>\n",
       "    </tr>\n",
       "  </thead>\n",
       "  <tbody>\n",
       "    <tr>\n",
       "      <th>0</th>\n",
       "      <td> 5.1</td>\n",
       "      <td> 3.5</td>\n",
       "      <td> 1.4</td>\n",
       "      <td> 0.2</td>\n",
       "      <td> 0</td>\n",
       "      <td> setosa</td>\n",
       "    </tr>\n",
       "    <tr>\n",
       "      <th>1</th>\n",
       "      <td> 4.9</td>\n",
       "      <td> 3.0</td>\n",
       "      <td> 1.4</td>\n",
       "      <td> 0.2</td>\n",
       "      <td> 0</td>\n",
       "      <td> setosa</td>\n",
       "    </tr>\n",
       "    <tr>\n",
       "      <th>2</th>\n",
       "      <td> 4.7</td>\n",
       "      <td> 3.2</td>\n",
       "      <td> 1.3</td>\n",
       "      <td> 0.2</td>\n",
       "      <td> 0</td>\n",
       "      <td> setosa</td>\n",
       "    </tr>\n",
       "    <tr>\n",
       "      <th>3</th>\n",
       "      <td> 4.6</td>\n",
       "      <td> 3.1</td>\n",
       "      <td> 1.5</td>\n",
       "      <td> 0.2</td>\n",
       "      <td> 0</td>\n",
       "      <td> setosa</td>\n",
       "    </tr>\n",
       "    <tr>\n",
       "      <th>4</th>\n",
       "      <td> 5.0</td>\n",
       "      <td> 3.6</td>\n",
       "      <td> 1.4</td>\n",
       "      <td> 0.2</td>\n",
       "      <td> 0</td>\n",
       "      <td> setosa</td>\n",
       "    </tr>\n",
       "  </tbody>\n",
       "</table>\n",
       "<p>5 rows × 6 columns</p>\n",
       "</div>"
      ],
      "text/plain": [
       "   sepal_length  sepal_width  petal_length  petal_width  target target_name\n",
       "0           5.1          3.5           1.4          0.2       0      setosa\n",
       "1           4.9          3.0           1.4          0.2       0      setosa\n",
       "2           4.7          3.2           1.3          0.2       0      setosa\n",
       "3           4.6          3.1           1.5          0.2       0      setosa\n",
       "4           5.0          3.6           1.4          0.2       0      setosa\n",
       "\n",
       "[5 rows x 6 columns]"
      ]
     },
     "execution_count": 2,
     "metadata": {},
     "output_type": "execute_result"
    }
   ],
   "source": [
    "dta= load_iris()\n",
    "df = pd.DataFrame(dta.data)\n",
    "df.columns = [x.split()[0] + '_' + x.split()[1] for x in dta.feature_names]\n",
    "df['target'] = dta.target\n",
    "df['target_name'] = dta.target_names[df.target]\n",
    "df.head()"
   ]
  },
  {
   "cell_type": "markdown",
   "metadata": {},
   "source": [
    "### Data Exploration"
   ]
  },
  {
   "cell_type": "code",
   "execution_count": 3,
   "metadata": {
    "collapsed": false
   },
   "outputs": [
    {
     "data": {
      "text/html": [
       "<div style=\"max-height:1000px;max-width:1500px;overflow:auto;\">\n",
       "<table border=\"1\" class=\"dataframe\">\n",
       "  <thead>\n",
       "    <tr style=\"text-align: right;\">\n",
       "      <th></th>\n",
       "      <th>sepal_length</th>\n",
       "      <th>sepal_width</th>\n",
       "      <th>petal_length</th>\n",
       "      <th>petal_width</th>\n",
       "      <th>target</th>\n",
       "    </tr>\n",
       "    <tr>\n",
       "      <th>target_name</th>\n",
       "      <th></th>\n",
       "      <th></th>\n",
       "      <th></th>\n",
       "      <th></th>\n",
       "      <th></th>\n",
       "    </tr>\n",
       "  </thead>\n",
       "  <tbody>\n",
       "    <tr>\n",
       "      <th>setosa</th>\n",
       "      <td> 5.006</td>\n",
       "      <td> 3.418</td>\n",
       "      <td> 1.464</td>\n",
       "      <td> 0.244</td>\n",
       "      <td> 0</td>\n",
       "    </tr>\n",
       "    <tr>\n",
       "      <th>versicolor</th>\n",
       "      <td> 5.936</td>\n",
       "      <td> 2.770</td>\n",
       "      <td> 4.260</td>\n",
       "      <td> 1.326</td>\n",
       "      <td> 1</td>\n",
       "    </tr>\n",
       "    <tr>\n",
       "      <th>virginica</th>\n",
       "      <td> 6.588</td>\n",
       "      <td> 2.974</td>\n",
       "      <td> 5.552</td>\n",
       "      <td> 2.026</td>\n",
       "      <td> 2</td>\n",
       "    </tr>\n",
       "  </tbody>\n",
       "</table>\n",
       "<p>3 rows × 5 columns</p>\n",
       "</div>"
      ],
      "text/plain": [
       "             sepal_length  sepal_width  petal_length  petal_width  target\n",
       "target_name                                                              \n",
       "setosa              5.006        3.418         1.464        0.244       0\n",
       "versicolor          5.936        2.770         4.260        1.326       1\n",
       "virginica           6.588        2.974         5.552        2.026       2\n",
       "\n",
       "[3 rows x 5 columns]"
      ]
     },
     "execution_count": 3,
     "metadata": {},
     "output_type": "execute_result"
    }
   ],
   "source": [
    "df.groupby(df.target_name).mean()"
   ]
  },
  {
   "cell_type": "code",
   "execution_count": 4,
   "metadata": {
    "collapsed": false
   },
   "outputs": [
    {
     "data": {
      "text/plain": [
       "<matplotlib.axes.AxesSubplot at 0x7fe58c5fab10>"
      ]
     },
     "execution_count": 4,
     "metadata": {},
     "output_type": "execute_result"
    },
    {
     "data": {
      "image/png": "[encoded data removed]",
      "text/plain": [
       "<matplotlib.figure.Figure at 0x7fe58c5fa950>"
      ]
     },
     "metadata": {},
     "output_type": "display_data"
    }
   ],
   "source": [
    "df.boxplot(column='sepal_length', by='target_name')"
   ]
  },
  {
   "cell_type": "code",
   "execution_count": 5,
   "metadata": {
    "collapsed": false
   },
   "outputs": [
    {
     "data": {
      "text/plain": [
       "<matplotlib.axes.AxesSubplot at 0x7fe58c37eed0>"
      ]
     },
     "execution_count": 5,
     "metadata": {},
     "output_type": "execute_result"
    },
    {
     "data": {
      "image/png": "[encoded data removed]",
      "text/plain": [
       "<matplotlib.figure.Figure at 0x7fe58c4d2c90>"
      ]
     },
     "metadata": {},
     "output_type": "display_data"
    }
   ],
   "source": [
    "df.boxplot(column='sepal_width', by='target_name')"
   ]
  },
  {
   "cell_type": "code",
   "execution_count": 6,
   "metadata": {
    "collapsed": false
   },
   "outputs": [
    {
     "data": {
      "text/plain": [
       "<matplotlib.axes.AxesSubplot at 0x7fe58c23f350>"
      ]
     },
     "execution_count": 6,
     "metadata": {},
     "output_type": "execute_result"
    },
    {
     "data": {
      "image/png": "[encoded data removed]",
      "text/plain": [
       "<matplotlib.figure.Figure at 0x7fe58c294f10>"
      ]
     },
     "metadata": {},
     "output_type": "display_data"
    }
   ],
   "source": [
    "df.boxplot(column='petal_length', by='target_name')"
   ]
  },
  {
   "cell_type": "code",
   "execution_count": 7,
   "metadata": {
    "collapsed": false
   },
   "outputs": [
    {
     "data": {
      "text/plain": [
       "<matplotlib.axes.AxesSubplot at 0x7fe5b852b310>"
      ]
     },
     "execution_count": 7,
     "metadata": {},
     "output_type": "execute_result"
    },
    {
     "data": {
      "image/png": "[encoded data removed]",
      "text/plain": [
       "<matplotlib.figure.Figure at 0x7fe58c48b390>"
      ]
     },
     "metadata": {},
     "output_type": "display_data"
    }
   ],
   "source": [
    "df.boxplot(column='petal_width', by='target_name')"
   ]
  },
  {
   "cell_type": "code",
   "execution_count": 8,
   "metadata": {
    "collapsed": false
   },
   "outputs": [
    {
     "data": {
      "image/png": "[encoded data removed]",
      "text/plain": [
       "<matplotlib.figure.Figure at 0x7fe58c1fb1d0>"
      ]
     },
     "metadata": {},
     "output_type": "display_data"
    }
   ],
   "source": [
    "plt.scatter(df['sepal_length'], df['sepal_width'], c=df['target'], alpha=0.75, edgecolors='face')\n",
    "plt.xlabel('sepal_length')\n",
    "plt.ylabel('sepal_width')\n",
    "plt.xticks(())\n",
    "xx = plt.yticks(())"
   ]
  },
  {
   "cell_type": "code",
   "execution_count": 9,
   "metadata": {
    "collapsed": false
   },
   "outputs": [
    {
     "data": {
      "image/png": "[encoded data removed]",
      "text/plain": [
       "<matplotlib.figure.Figure at 0x7fe5b8515110>"
      ]
     },
     "metadata": {},
     "output_type": "display_data"
    }
   ],
   "source": [
    "plt.scatter(df['petal_length'], df['petal_width'], c=df['target'], alpha=0.75, edgecolors='face')\n",
    "plt.xlabel('petal_length')\n",
    "plt.ylabel('petal_width')\n",
    "plt.xticks(())\n",
    "xx = plt.yticks(())"
   ]
  },
  {
   "cell_type": "markdown",
   "metadata": {},
   "source": [
    "### Feature Extraction"
   ]
  },
  {
   "cell_type": "code",
   "execution_count": 10,
   "metadata": {
    "collapsed": true
   },
   "outputs": [],
   "source": [
    "y, X = dmatrices('target ~ sepal_length + sepal_width + petal_length + petal_width', df, return_type='dataframe')\n",
    "X.columns\n",
    "\n",
    "#flattern y into a 1-D array\n",
    "y = np.ravel(y)"
   ]
  },
  {
   "cell_type": "markdown",
   "metadata": {},
   "source": [
    "### Divide Data to Train and Test datasets"
   ]
  },
  {
   "cell_type": "code",
   "execution_count": 11,
   "metadata": {
    "collapsed": true
   },
   "outputs": [],
   "source": [
    "# evaluate the model by splitting into train and test sets\n",
    "X_train, X_test, y_train, y_test = train_test_split(X, y, test_size=0.3, random_state=0)"
   ]
  },
  {
   "cell_type": "markdown",
   "metadata": {},
   "source": [
    "### Building Logit model"
   ]
  },
  {
   "cell_type": "code",
   "execution_count": 12,
   "metadata": {
    "collapsed": false
   },
   "outputs": [
    {
     "data": {
      "text/plain": [
       "LogisticRegression(C=1.0, class_weight=None, dual=False, fit_intercept=True,\n",
       "          intercept_scaling=1, max_iter=100, multi_class='ovr', n_jobs=1,\n",
       "          penalty='l2', random_state=None, solver='liblinear', tol=0.0001,\n",
       "          verbose=0, warm_start=False)"
      ]
     },
     "execution_count": 12,
     "metadata": {},
     "output_type": "execute_result"
    }
   ],
   "source": [
    "logit = linear_model.LogisticRegression()\n",
    "logit.fit(X_train, y_train)"
   ]
  },
  {
   "cell_type": "markdown",
   "metadata": {},
   "source": [
    "### Prediction and Score"
   ]
  },
  {
   "cell_type": "code",
   "execution_count": 13,
   "metadata": {
    "collapsed": true
   },
   "outputs": [],
   "source": [
    "predicted = logit.predict(X_test)\n",
    "probs = logit.predict_proba(X_test) "
   ]
  },
  {
   "cell_type": "code",
   "execution_count": 14,
   "metadata": {
    "collapsed": false
   },
   "outputs": [
    {
     "name": "stdout",
     "output_type": "stream",
     "text": [
      "[[  1.00180968e-03   1.78309651e-01   8.20688539e-01]\n",
      " [  2.76607073e-02   8.27913893e-01   1.44425399e-01]\n",
      " [  9.40556020e-01   5.94325933e-02   1.13871123e-05]\n",
      " [  2.31306892e-04   3.69773921e-01   6.29994772e-01]\n",
      " [  8.56826994e-01   1.43100526e-01   7.24795855e-05]]\n",
      "[ 2.  1.  0.  2.  0.]\n"
     ]
    }
   ],
   "source": [
    "#check probability and prediction for first 5 data enrty\n",
    "print probs[0:5]\n",
    "print predicted[0:5]"
   ]
  },
  {
   "cell_type": "code",
   "execution_count": 15,
   "metadata": {
    "collapsed": false
   },
   "outputs": [
    {
     "name": "stdout",
     "output_type": "stream",
     "text": [
      "0.888888888889\n"
     ]
    }
   ],
   "source": [
    "# Generate evaluation matrics\n",
    "print metrics.accuracy_score(y_test, predicted)\n",
    "#print metrics.roc_auc_score(y_test, probs[:, 1])"
   ]
  },
  {
   "cell_type": "markdown",
   "metadata": {},
   "source": [
    "89% accuracy. Not bad!"
   ]
  },
  {
   "cell_type": "markdown",
   "metadata": {},
   "source": [
    "### Model evaluation using cross validation"
   ]
  },
  {
   "cell_type": "code",
   "execution_count": 16,
   "metadata": {
    "collapsed": false
   },
   "outputs": [
    {
     "name": "stdout",
     "output_type": "stream",
     "text": [
      "[ 1.          1.          1.          0.93333333  0.93333333  0.93333333\n",
      "  0.8         0.93333333  1.          1.        ]\n",
      "0.953333333333\n"
     ]
    }
   ],
   "source": [
    "# 10 fold cross validation\n",
    "scores = cross_val_score(linear_model.LogisticRegression(), X, y, scoring='accuracy', cv=10)\n",
    "print scores\n",
    "print scores.mean()"
   ]
  },
  {
   "cell_type": "markdown",
   "metadata": {},
   "source": [
    "Cross validation score 95%"
   ]
  },
  {
   "cell_type": "code",
   "execution_count": 17,
   "metadata": {
    "collapsed": false
   },
   "outputs": [
    {
     "data": {
      "text/html": [
       "<div style=\"max-height:1000px;max-width:1500px;overflow:auto;\">\n",
       "<table border=\"1\" class=\"dataframe\">\n",
       "  <thead>\n",
       "    <tr style=\"text-align: right;\">\n",
       "      <th></th>\n",
       "      <th>0</th>\n",
       "      <th>1</th>\n",
       "    </tr>\n",
       "  </thead>\n",
       "  <tbody>\n",
       "    <tr>\n",
       "      <th>0</th>\n",
       "      <td>    Intercept</td>\n",
       "      <td> [0.239143299201, 0.693321468634, -0.881871260884]</td>\n",
       "    </tr>\n",
       "    <tr>\n",
       "      <th>1</th>\n",
       "      <td> sepal_length</td>\n",
       "      <td>    [0.3691398893, 0.292013085985, -1.56208150821]</td>\n",
       "    </tr>\n",
       "    <tr>\n",
       "      <th>2</th>\n",
       "      <td>  sepal_width</td>\n",
       "      <td>   [1.28859982704, -1.45036561523, -1.12328864678]</td>\n",
       "    </tr>\n",
       "    <tr>\n",
       "      <th>3</th>\n",
       "      <td> petal_length</td>\n",
       "      <td>     [-2.0952444771, 0.43479261504, 2.38904021297]</td>\n",
       "    </tr>\n",
       "    <tr>\n",
       "      <th>4</th>\n",
       "      <td>  petal_width</td>\n",
       "      <td>   [-0.957331176822, -1.07513236837, 1.9919234776]</td>\n",
       "    </tr>\n",
       "  </tbody>\n",
       "</table>\n",
       "<p>5 rows × 2 columns</p>\n",
       "</div>"
      ],
      "text/plain": [
       "              0                                                  1\n",
       "0     Intercept  [0.239143299201, 0.693321468634, -0.881871260884]\n",
       "1  sepal_length     [0.3691398893, 0.292013085985, -1.56208150821]\n",
       "2   sepal_width    [1.28859982704, -1.45036561523, -1.12328864678]\n",
       "3  petal_length      [-2.0952444771, 0.43479261504, 2.38904021297]\n",
       "4   petal_width    [-0.957331176822, -1.07513236837, 1.9919234776]\n",
       "\n",
       "[5 rows x 2 columns]"
      ]
     },
     "execution_count": 17,
     "metadata": {},
     "output_type": "execute_result"
    }
   ],
   "source": [
    "# check coefficients\n",
    "pd.DataFrame(zip(X.columns, np.transpose(logit.coef_)))"
   ]
  },
  {
   "cell_type": "markdown",
   "metadata": {},
   "source": [
    "### Improve Model\n",
    "Adding extra feature to our dataset. Sepal area and Petal area."
   ]
  },
  {
   "cell_type": "code",
   "execution_count": 18,
   "metadata": {
    "collapsed": false
   },
   "outputs": [
    {
     "data": {
      "text/html": [
       "<div style=\"max-height:1000px;max-width:1500px;overflow:auto;\">\n",
       "<table border=\"1\" class=\"dataframe\">\n",
       "  <thead>\n",
       "    <tr>\n",
       "      <th>target_name</th>\n",
       "      <th colspan=\"8\" halign=\"left\">setosa</th>\n",
       "      <th colspan=\"8\" halign=\"left\">versicolor</th>\n",
       "      <th colspan=\"4\" halign=\"left\">virginica</th>\n",
       "      <th></th>\n",
       "    </tr>\n",
       "    <tr>\n",
       "      <th></th>\n",
       "      <th>count</th>\n",
       "      <th>mean</th>\n",
       "      <th>std</th>\n",
       "      <th>min</th>\n",
       "      <th>25%</th>\n",
       "      <th>50%</th>\n",
       "      <th>75%</th>\n",
       "      <th>max</th>\n",
       "      <th>count</th>\n",
       "      <th>mean</th>\n",
       "      <th>std</th>\n",
       "      <th>min</th>\n",
       "      <th>25%</th>\n",
       "      <th>50%</th>\n",
       "      <th>75%</th>\n",
       "      <th>max</th>\n",
       "      <th>count</th>\n",
       "      <th>mean</th>\n",
       "      <th>std</th>\n",
       "      <th>min</th>\n",
       "      <th></th>\n",
       "    </tr>\n",
       "  </thead>\n",
       "  <tbody>\n",
       "    <tr>\n",
       "      <th>sepal_length</th>\n",
       "      <td> 50</td>\n",
       "      <td>  5.0060</td>\n",
       "      <td> 0.352490</td>\n",
       "      <td>  4.30</td>\n",
       "      <td>  4.800</td>\n",
       "      <td>  5.0</td>\n",
       "      <td>  5.200</td>\n",
       "      <td>  5.80</td>\n",
       "      <td> 50</td>\n",
       "      <td>  5.9360</td>\n",
       "      <td> 0.516171</td>\n",
       "      <td>  4.9</td>\n",
       "      <td>  5.6000</td>\n",
       "      <td>  5.900</td>\n",
       "      <td>  6.300</td>\n",
       "      <td>  7.00</td>\n",
       "      <td> 50</td>\n",
       "      <td>  6.5880</td>\n",
       "      <td> 0.635880</td>\n",
       "      <td>  4.90</td>\n",
       "      <td>...</td>\n",
       "    </tr>\n",
       "    <tr>\n",
       "      <th>sepal_width</th>\n",
       "      <td> 50</td>\n",
       "      <td>  3.4180</td>\n",
       "      <td> 0.381024</td>\n",
       "      <td>  2.30</td>\n",
       "      <td>  3.125</td>\n",
       "      <td>  3.4</td>\n",
       "      <td>  3.675</td>\n",
       "      <td>  4.40</td>\n",
       "      <td> 50</td>\n",
       "      <td>  2.7700</td>\n",
       "      <td> 0.313798</td>\n",
       "      <td>  2.0</td>\n",
       "      <td>  2.5250</td>\n",
       "      <td>  2.800</td>\n",
       "      <td>  3.000</td>\n",
       "      <td>  3.40</td>\n",
       "      <td> 50</td>\n",
       "      <td>  2.9740</td>\n",
       "      <td> 0.322497</td>\n",
       "      <td>  2.20</td>\n",
       "      <td>...</td>\n",
       "    </tr>\n",
       "    <tr>\n",
       "      <th>petal_length</th>\n",
       "      <td> 50</td>\n",
       "      <td>  1.4640</td>\n",
       "      <td> 0.173511</td>\n",
       "      <td>  1.00</td>\n",
       "      <td>  1.400</td>\n",
       "      <td>  1.5</td>\n",
       "      <td>  1.575</td>\n",
       "      <td>  1.90</td>\n",
       "      <td> 50</td>\n",
       "      <td>  4.2600</td>\n",
       "      <td> 0.469911</td>\n",
       "      <td>  3.0</td>\n",
       "      <td>  4.0000</td>\n",
       "      <td>  4.350</td>\n",
       "      <td>  4.600</td>\n",
       "      <td>  5.10</td>\n",
       "      <td> 50</td>\n",
       "      <td>  5.5520</td>\n",
       "      <td> 0.551895</td>\n",
       "      <td>  4.50</td>\n",
       "      <td>...</td>\n",
       "    </tr>\n",
       "    <tr>\n",
       "      <th>petal_width</th>\n",
       "      <td> 50</td>\n",
       "      <td>  0.2440</td>\n",
       "      <td> 0.107210</td>\n",
       "      <td>  0.10</td>\n",
       "      <td>  0.200</td>\n",
       "      <td>  0.2</td>\n",
       "      <td>  0.300</td>\n",
       "      <td>  0.60</td>\n",
       "      <td> 50</td>\n",
       "      <td>  1.3260</td>\n",
       "      <td> 0.197753</td>\n",
       "      <td>  1.0</td>\n",
       "      <td>  1.2000</td>\n",
       "      <td>  1.300</td>\n",
       "      <td>  1.500</td>\n",
       "      <td>  1.80</td>\n",
       "      <td> 50</td>\n",
       "      <td>  2.0260</td>\n",
       "      <td> 0.274650</td>\n",
       "      <td>  1.40</td>\n",
       "      <td>...</td>\n",
       "    </tr>\n",
       "    <tr>\n",
       "      <th>target</th>\n",
       "      <td> 50</td>\n",
       "      <td>  0.0000</td>\n",
       "      <td> 0.000000</td>\n",
       "      <td>  0.00</td>\n",
       "      <td>  0.000</td>\n",
       "      <td>  0.0</td>\n",
       "      <td>  0.000</td>\n",
       "      <td>  0.00</td>\n",
       "      <td> 50</td>\n",
       "      <td>  1.0000</td>\n",
       "      <td> 0.000000</td>\n",
       "      <td>  1.0</td>\n",
       "      <td>  1.0000</td>\n",
       "      <td>  1.000</td>\n",
       "      <td>  1.000</td>\n",
       "      <td>  1.00</td>\n",
       "      <td> 50</td>\n",
       "      <td>  2.0000</td>\n",
       "      <td> 0.000000</td>\n",
       "      <td>  2.00</td>\n",
       "      <td>...</td>\n",
       "    </tr>\n",
       "    <tr>\n",
       "      <th>sepal_area</th>\n",
       "      <td> 50</td>\n",
       "      <td> 17.2088</td>\n",
       "      <td> 2.947688</td>\n",
       "      <td> 10.35</td>\n",
       "      <td> 15.040</td>\n",
       "      <td> 17.0</td>\n",
       "      <td> 19.155</td>\n",
       "      <td> 25.08</td>\n",
       "      <td> 50</td>\n",
       "      <td> 16.5262</td>\n",
       "      <td> 2.866882</td>\n",
       "      <td> 10.0</td>\n",
       "      <td> 14.3475</td>\n",
       "      <td> 16.385</td>\n",
       "      <td> 18.495</td>\n",
       "      <td> 22.40</td>\n",
       "      <td> 50</td>\n",
       "      <td> 19.6846</td>\n",
       "      <td> 3.458783</td>\n",
       "      <td> 12.25</td>\n",
       "      <td>...</td>\n",
       "    </tr>\n",
       "    <tr>\n",
       "      <th>petal_area</th>\n",
       "      <td> 50</td>\n",
       "      <td>  0.3628</td>\n",
       "      <td> 0.183248</td>\n",
       "      <td>  0.11</td>\n",
       "      <td>  0.265</td>\n",
       "      <td>  0.3</td>\n",
       "      <td>  0.420</td>\n",
       "      <td>  0.96</td>\n",
       "      <td> 50</td>\n",
       "      <td>  5.7204</td>\n",
       "      <td> 1.368403</td>\n",
       "      <td>  3.3</td>\n",
       "      <td>  4.8600</td>\n",
       "      <td>  5.615</td>\n",
       "      <td>  6.750</td>\n",
       "      <td>  8.64</td>\n",
       "      <td> 50</td>\n",
       "      <td> 11.2962</td>\n",
       "      <td> 2.157412</td>\n",
       "      <td>  7.50</td>\n",
       "      <td>...</td>\n",
       "    </tr>\n",
       "  </tbody>\n",
       "</table>\n",
       "<p>7 rows × 24 columns</p>\n",
       "</div>"
      ],
      "text/plain": [
       "target_name   setosa                                                         \\\n",
       "               count     mean       std    min     25%   50%     75%    max   \n",
       "sepal_length      50   5.0060  0.352490   4.30   4.800   5.0   5.200   5.80   \n",
       "sepal_width       50   3.4180  0.381024   2.30   3.125   3.4   3.675   4.40   \n",
       "petal_length      50   1.4640  0.173511   1.00   1.400   1.5   1.575   1.90   \n",
       "petal_width       50   0.2440  0.107210   0.10   0.200   0.2   0.300   0.60   \n",
       "target            50   0.0000  0.000000   0.00   0.000   0.0   0.000   0.00   \n",
       "sepal_area        50  17.2088  2.947688  10.35  15.040  17.0  19.155  25.08   \n",
       "petal_area        50   0.3628  0.183248   0.11   0.265   0.3   0.420   0.96   \n",
       "\n",
       "target_name   versicolor                                                    \\\n",
       "                   count     mean       std   min      25%     50%     75%   \n",
       "sepal_length          50   5.9360  0.516171   4.9   5.6000   5.900   6.300   \n",
       "sepal_width           50   2.7700  0.313798   2.0   2.5250   2.800   3.000   \n",
       "petal_length          50   4.2600  0.469911   3.0   4.0000   4.350   4.600   \n",
       "petal_width           50   1.3260  0.197753   1.0   1.2000   1.300   1.500   \n",
       "target                50   1.0000  0.000000   1.0   1.0000   1.000   1.000   \n",
       "sepal_area            50  16.5262  2.866882  10.0  14.3475  16.385  18.495   \n",
       "petal_area            50   5.7204  1.368403   3.3   4.8600   5.615   6.750   \n",
       "\n",
       "target_name          virginica                                \n",
       "                max      count     mean       std    min      \n",
       "sepal_length   7.00         50   6.5880  0.635880   4.90 ...  \n",
       "sepal_width    3.40         50   2.9740  0.322497   2.20 ...  \n",
       "petal_length   5.10         50   5.5520  0.551895   4.50 ...  \n",
       "petal_width    1.80         50   2.0260  0.274650   1.40 ...  \n",
       "target         1.00         50   2.0000  0.000000   2.00 ...  \n",
       "sepal_area    22.40         50  19.6846  3.458783  12.25 ...  \n",
       "petal_area     8.64         50  11.2962  2.157412   7.50 ...  \n",
       "\n",
       "[7 rows x 24 columns]"
      ]
     },
     "execution_count": 18,
     "metadata": {},
     "output_type": "execute_result"
    }
   ],
   "source": [
    "df2 = df.copy()\n",
    "df2['sepal_area'] = (df.sepal_length * df.sepal_width)\n",
    "df2['petal_area'] = (df.petal_length * df.petal_width)\n",
    "df2.groupby(df.target_name).describe().transpose()"
   ]
  },
  {
   "cell_type": "markdown",
   "metadata": {},
   "source": [
    "### Explore new feature"
   ]
  },
  {
   "cell_type": "code",
   "execution_count": 19,
   "metadata": {
    "collapsed": false
   },
   "outputs": [
    {
     "data": {
      "text/plain": [
       "<matplotlib.axes.AxesSubplot at 0x7fe58bf30f50>"
      ]
     },
     "execution_count": 19,
     "metadata": {},
     "output_type": "execute_result"
    },
    {
     "data": {
      "image/png": "[encoded data removed]",
      "text/plain": [
       "<matplotlib.figure.Figure at 0x7fe5c029d510>"
      ]
     },
     "metadata": {},
     "output_type": "display_data"
    }
   ],
   "source": [
    "df2.boxplot(column='sepal_area', by='target_name')"
   ]
  },
  {
   "cell_type": "code",
   "execution_count": 20,
   "metadata": {
    "collapsed": false
   },
   "outputs": [
    {
     "data": {
      "text/plain": [
       "<matplotlib.axes.AxesSubplot at 0x7fe58c234a10>"
      ]
     },
     "execution_count": 20,
     "metadata": {},
     "output_type": "execute_result"
    },
    {
     "data": {
      "image/png": "[encoded data removed]",
      "text/plain": [
       "<matplotlib.figure.Figure at 0x7fe58c22bb90>"
      ]
     },
     "metadata": {},
     "output_type": "display_data"
    }
   ],
   "source": [
    "df2.boxplot(column='petal_area', by='target_name')"
   ]
  },
  {
   "cell_type": "code",
   "execution_count": 21,
   "metadata": {
    "collapsed": false
   },
   "outputs": [
    {
     "data": {
      "image/png": "[encoded data removed]",
      "text/plain": [
       "<matplotlib.figure.Figure at 0x7fe58c2b9e50>"
      ]
     },
     "metadata": {},
     "output_type": "display_data"
    }
   ],
   "source": [
    "plt.scatter(df2['sepal_area'], df2['petal_area'], c=df2['target'], alpha=0.75, edgecolors='face')\n",
    "plt.xlabel('sepal_area')\n",
    "plt.ylabel('petal_area')\n",
    "plt.xticks(())\n",
    "xx = plt.yticks(())"
   ]
  },
  {
   "cell_type": "markdown",
   "metadata": {},
   "source": [
    "### Modeling with new dataset"
   ]
  },
  {
   "cell_type": "code",
   "execution_count": 22,
   "metadata": {
    "collapsed": true
   },
   "outputs": [],
   "source": [
    "y2, X2 = dmatrices('target ~ sepal_length + sepal_width + petal_length + petal_width', df, return_type='dataframe')\n",
    "X2.columns\n",
    "\n",
    "#flattern y into a 1-D array\n",
    "y2 = np.ravel(y2)\n",
    "\n",
    "# evaluate the model by splitting into train and test sets\n",
    "X2_train, X2_test, y2_train, y2_test = train_test_split(X2, y2, test_size=0.3, random_state=0)"
   ]
  },
  {
   "cell_type": "code",
   "execution_count": 23,
   "metadata": {
    "collapsed": false
   },
   "outputs": [
    {
     "data": {
      "text/plain": [
       "LogisticRegression(C=1.0, class_weight=None, dual=False, fit_intercept=True,\n",
       "          intercept_scaling=1, max_iter=100, multi_class='ovr', n_jobs=1,\n",
       "          penalty='l2', random_state=None, solver='liblinear', tol=0.0001,\n",
       "          verbose=0, warm_start=False)"
      ]
     },
     "execution_count": 23,
     "metadata": {},
     "output_type": "execute_result"
    }
   ],
   "source": [
    "logit2 = linear_model.LogisticRegression()\n",
    "logit2.fit(X2_train, y2_train)"
   ]
  },
  {
   "cell_type": "code",
   "execution_count": 24,
   "metadata": {
    "collapsed": true
   },
   "outputs": [],
   "source": [
    "predicted = logit.predict(X_test)\n",
    "probs = logit.predict_proba(X_test)"
   ]
  },
  {
   "cell_type": "code",
   "execution_count": 25,
   "metadata": {
    "collapsed": false
   },
   "outputs": [
    {
     "name": "stdout",
     "output_type": "stream",
     "text": [
      "0.888888888889\n"
     ]
    }
   ],
   "source": [
    "# Generate evaluation matrics\n",
    "print metrics.accuracy_score(y_test, predicted)"
   ]
  },
  {
   "cell_type": "markdown",
   "metadata": {},
   "source": [
    "Same accuracy!"
   ]
  },
  {
   "cell_type": "code",
   "execution_count": 26,
   "metadata": {
    "collapsed": false
   },
   "outputs": [
    {
     "name": "stdout",
     "output_type": "stream",
     "text": [
      "[ 1.          1.          1.          0.93333333  0.93333333  0.93333333\n",
      "  0.8         0.93333333  1.          1.        ]\n",
      "0.953333333333\n"
     ]
    }
   ],
   "source": [
    "# 10 fold cross validation\n",
    "scores = cross_val_score(linear_model.LogisticRegression(), X, y, scoring='accuracy', cv=10)\n",
    "print scores\n",
    "print scores.mean()"
   ]
  },
  {
   "cell_type": "markdown",
   "metadata": {},
   "source": [
    "Cross Validation score same too."
   ]
  },
  {
   "cell_type": "markdown",
   "metadata": {},
   "source": [
    "Why didn't accuracy improved? \n",
    "Hint: dependent variable"
   ]
  }
 ],
 "metadata": {
  "kernelspec": {
   "display_name": "Python 2",
   "language": "python",
   "name": "python2"
  },
  "language_info": {
   "codemirror_mode": {
    "name": "ipython",
    "version": 2
   },
   "file_extension": ".py",
   "mimetype": "text/x-python",
   "name": "python",
   "nbconvert_exporter": "python",
   "pygments_lexer": "ipython2",
   "version": "2.7.6"
  }
 },
 "nbformat": 4,
 "nbformat_minor": 0
}
